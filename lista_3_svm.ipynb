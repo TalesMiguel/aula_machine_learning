{
  "cells": [
    {
      "cell_type": "markdown",
      "metadata": {
        "id": "044IsBylNyJH"
      },
      "source": [
        "# **Lista de exercícios 3**: *Support Vector Machines*\n",
        "\n",
        "Prof. Dr. Rodrigo Colnago Contreras <br />\n",
        "contreras@unifesp.br"
      ]
    },
    {
      "cell_type": "markdown",
      "metadata": {
        "id": "zfVfzO18PJI3"
      },
      "source": [
        "---\n",
        "\n",
        "### Exercício 0: Definição de modelos supervisionados de SVM\n",
        "\n",
        "Defina duas funções:\n",
        "\n",
        "```python\n",
        "def retorna_modelo_SVM(X, y, kernel_f, C):\n",
        "```\n",
        "e\n",
        "```python\n",
        "def retorna_modelo_SVR(X, y, kernel_f, C):\n",
        "```\n",
        "\n",
        "**Parâmetros de entrada:**\n",
        "`X`: matriz de entrada de tamanho (`n_amostras, n_features`), contendo os vetores de características das amostras;\n",
        "\n",
        "`y`: vetor de rótulos supervisionados;\n",
        "\n",
        "`C`: parâmetro de penalização para margens suaves (quanto maior, menor a tolerância ao erro).\n",
        "\n",
        "**Requisitos**:\n",
        "\n",
        "Função `retorna_modelo_SVM`:\n",
        "\n",
        "Deve construir um modelo de classificação binária com SVM com função de kernel `kernel_f`;\n",
        "\n",
        "A saída da função deve ser um classificador que, dado um vetor `x`, retorne um rótulo em $\\{−1, +1\\}$;\n",
        "\n",
        "Pressupõe-se que o vetor `y` já esteja codificado com os rótulos $−1$ e $+1$.\n",
        "\n",
        "Função `retorna_modelo_SVR`:\n",
        "\n",
        "Deve construir um modelo de regressão SVM (SVR) com função de kernel `kernel_f`;\n",
        "\n",
        "A saída da função deve ser uma função preditiva capaz de retornar valores reais para novas amostras `x`.\n",
        "\n",
        "---\n",
        "\n",
        "#### **Observações**:\n",
        "\n",
        "* Seu modelo deve utilizar **SVM/SVR implementado via otimização** (ex: com `cvxpy`), conforme feito em aula;\n",
        "* Sempre use um kernel adequado (ex: RBF) e uma abordagem robusta de avaliação (ex: média do erro nos últimos dias antes da predição);\n",
        "* Não é permitido o uso de bibliotecas prontas como `sklearn.svm.SVR`."
      ]
    },
    {
      "cell_type": "code",
      "execution_count": null,
      "metadata": {
        "id": "gTD3rCrWPIbu"
      },
      "outputs": [],
      "source": [
        "# Generalizar o código para aceitar qualquer função de kernel\n",
        "import cvxpy as cp\n",
        "import numpy as np\n",
        "\n",
        "def treinar_svm_dual_generico(X, y, C=1.0, kernel_fn=None):\n",
        "    \"\"\"\n",
        "    Treina uma SVM dual com cvxpy usando um kernel genérico.\n",
        "\n",
        "    Retorna:\n",
        "    - classificador (função que retorna -1 ou +1)\n",
        "    - suporte_alphas, suporte_vetores, suporte_labels, bias\n",
        "    \"\"\"\n",
        "    n = X.shape[0]\n",
        "    y = y.astype(float)\n",
        "\n",
        "    # Calcular matriz kernel\n",
        "    K = kernel_fn(X, X)\n",
        "    Q = np.outer(y, y) * K\n",
        "\n",
        "    # Problema dual\n",
        "    alpha = cp.Variable(n)\n",
        "    objective = cp.Maximize(cp.sum(alpha) - 0.5 * cp.quad_form(alpha, cp.psd_wrap(Q)))\n",
        "    constraints = [alpha >= 0, alpha <= C, cp.sum(cp.multiply(alpha, y)) == 0]\n",
        "    problem = cp.Problem(objective, constraints)\n",
        "    problem.solve()\n",
        "\n",
        "    alpha_val = alpha.value\n",
        "    support_indices = np.where(alpha_val > 1e-5)[0]\n",
        "    support_alphas = alpha_val[support_indices]\n",
        "    support_vectors = X[support_indices]\n",
        "    support_labels = y[support_indices]\n",
        "\n",
        "    # Função kernel entre vetor e base\n",
        "    def kernel_vector(x, Y):\n",
        "        return kernel_fn(Y, np.atleast_2d(x)).ravel()\n",
        "\n",
        "    # Calcular bias b\n",
        "    K_sv = kernel_fn(support_vectors, support_vectors)\n",
        "    b_vals = support_labels - np.sum((support_alphas * support_labels)[:, None] * K_sv, axis=0)\n",
        "    b = np.mean(b_vals)\n",
        "\n",
        "    # Classificador\n",
        "    def classificador(x):\n",
        "        k_vals = kernel_vector(x, support_vectors)\n",
        "        return np.sign(np.sum(support_alphas * support_labels * k_vals) + b)\n",
        "\n",
        "    return classificador, support_alphas, support_vectors, support_labels, b\n"
      ]
    },
    {
      "cell_type": "code",
      "execution_count": null,
      "metadata": {
        "id": "F8F_-CzMgvvF"
      },
      "outputs": [],
      "source": [
        "# Exemplo de uso:\n",
        "# classificador, support_alphas, support_vectors, support_labels, b = treinar_svm_dual_generico(X_rbf, y_rbf, kernel_fn=lambda x, y: np.exp(-np.linalg.norm(x - y, axis=1)**2))"
      ]
    },
    {
      "cell_type": "code",
      "execution_count": null,
      "metadata": {
        "id": "Js3OFio0he9m"
      },
      "outputs": [],
      "source": [
        "# Função generalizada para SVR dual com kernel arbitrário\n",
        "def treinar_svr_dual(X, y, C=1.0, epsilon=0.1, kernel_fn=None):\n",
        "    n = X.shape[0]\n",
        "    y = y.astype(float)\n",
        "\n",
        "    if kernel_fn is None:\n",
        "        raise ValueError(\"É necessário fornecer uma função de kernel\")\n",
        "\n",
        "    K = kernel_fn(X, X)\n",
        "    alpha = cp.Variable(n)\n",
        "    alpha_star = cp.Variable(n)\n",
        "    alpha_diff = alpha - alpha_star\n",
        "\n",
        "    objective = cp.Maximize(\n",
        "        -0.5 * cp.quad_form(alpha_diff, cp.psd_wrap(K)) -\n",
        "        epsilon * cp.sum(alpha + alpha_star) +\n",
        "        cp.sum(cp.multiply(y, alpha_diff))\n",
        "    )\n",
        "\n",
        "    constraints = [\n",
        "        alpha >= 0,\n",
        "        alpha <= C,\n",
        "        alpha_star >= 0,\n",
        "        alpha_star <= C,\n",
        "        cp.sum(alpha_diff) == 0\n",
        "    ]\n",
        "\n",
        "    problem = cp.Problem(objective, constraints)\n",
        "    problem.solve()\n",
        "\n",
        "    alpha_val = alpha.value\n",
        "    alpha_star_val = alpha_star.value\n",
        "    alpha_diff_val = alpha_val - alpha_star_val\n",
        "\n",
        "    # Calcular b\n",
        "    inside_margin = (alpha_val > 1e-5) & (alpha_val < C - 1e-5)\n",
        "    inside_margin |= (alpha_star_val > 1e-5) & (alpha_star_val < C - 1e-5)\n",
        "    b_vals = []\n",
        "    for i in np.where(inside_margin)[0]:\n",
        "        b_i = y[i] - np.sum(alpha_diff_val * K[i, :])\n",
        "        b_vals.append(b_i)\n",
        "    b = np.mean(b_vals)\n",
        "\n",
        "    def preditor(x):\n",
        "        k = kernel_fn(X, np.atleast_2d(x)).ravel()\n",
        "        return np.sum(alpha_diff_val * k) + b\n",
        "\n",
        "    return preditor, alpha_val, alpha_star_val, alpha_diff_val, b\n"
      ]
    },
    {
      "cell_type": "code",
      "execution_count": null,
      "metadata": {
        "id": "KgPNHoi-hieS"
      },
      "outputs": [],
      "source": [
        "# Exemplo de uso:\n",
        "\n",
        "# def rbf_kernel(X1, X2, gamma=1.0):\n",
        "#     X1 = np.atleast_2d(X1)\n",
        "#     X2 = np.atleast_2d(X2)\n",
        "#     sq_dists = np.sum(X1**2, axis=1)[:, None] + np.sum(X2**2, axis=1) - 2 * X1 @ X2.T\n",
        "#     return np.exp(-gamma * sq_dists)\n",
        "\n",
        "# preditor, alpha_val, alpha_star_val, alpha_diff_val, b = treinar_svr_dual(X_rbf, y_rbf, kernel_fn=lambda x, y: rbf_kernel(x,y))"
      ]
    },
    {
      "cell_type": "markdown",
      "metadata": {
        "id": "LZk9ExA0OOzs"
      },
      "source": [
        "### Exercício 1: Sobreviventes do Titanic com SVM\n",
        "\n",
        "Neste exercício, você irá utilizar a base de dados do Titanic para treinar e testar um classificador baseado em **Máquinas de Vetores de Suporte (SVM)**.\n",
        "\n",
        "#### Etapas:\n",
        "\n",
        "1. **Carregue os dados** da competição do Titanic (disponível em: https://www.kaggle.com/c/titanic/data e https://medium.com/@mdbaraujo/explora%C3%A7%C3%A3o-de-dados-dataset-titanic-machine-learning-c30bc06227d6).\n",
        "   - Utilize apenas o arquivo `train.csv`.\n",
        "\n",
        "2. **Reparta o dataset manualmente**:\n",
        "   - Use as **primeiras 75% das linhas** como conjunto de **treinamento**;\n",
        "   - Use as **últimas 25% das linhas** como conjunto de **teste**.\n",
        "\n",
        "3. **Pré-processamento dos dados**:\n",
        "   - Remova colunas não informativas (`PassengerId`, `Name`, `Ticket`, `Cabin`);\n",
        "   - Converta variáveis categóricas em numéricas (ex: `Sex`, `Embarked`);\n",
        "   - Preencha valores ausentes (`Age`, `Embarked`, etc.).\n",
        "\n",
        "4. **Treine uma SVM**:\n",
        "   - Use as funções discutidas em sala de aula;\n",
        "   - Escolha um kernel (ex: `'linear'` ou `'rbf'`);\n",
        "   - Treine o modelo sobre os dados de treino.\n",
        "\n",
        "5. **Avalie o modelo**:\n",
        "   - Aplique seu modelo ao conjunto de teste para estimar se um passageiro sobreviveu ou não;\n",
        "   - Qual a porcentagem de acertos de seu modelo?\n",
        "\n",
        "6. **Interpretação e Discussão**:\n",
        "   - O desempenho foi satisfatório?\n",
        "   - Qual kernel parece funcionar melhor?"
      ]
    },
    {
      "cell_type": "code",
      "execution_count": null,
      "metadata": {
        "id": "wgMBJLNPLscW"
      },
      "outputs": [],
      "source": [
        "# Solução:"
      ]
    },
    {
      "cell_type": "markdown",
      "metadata": {
        "id": "oemQ-xv7OV9C"
      },
      "source": [
        "### Exercício 2: Predição do Próximo Valor do Bitcoin com SVR\n",
        "\n",
        "Neste exercício, você deve utilizar dados históricos do Bitcoin para construir um **modelo de regressão com SVM (SVR)** que seja capaz de **prever o próximo valor de fechamento diário** com base nos valores anteriores.\n",
        "\n",
        "#### Etapas:\n",
        "\n",
        "1. **Obtenha os dados históricos do Bitcoin**:\n",
        "   - Você pode usar a biblioteca `yfinance`:\n",
        "     ```python\n",
        "     import yfinance as yf\n",
        "     btc = yf.download(\"BTC-USD\", start=\"2021-01-01\", end=\"2023-01-01\")\n",
        "     ```\n",
        "   - Use apenas a coluna `Close` como série temporal.\n",
        "\n",
        "2. **Crie os dados para treino**:\n",
        "   - Use observações anteriores para criar vetores de características e variáveis resposta (ex: utilize vetores de tamanho 50 do período sugerido para predizer a observação 51).\n",
        "\n",
        "3. **Escreva uma função chamada `treinar_e_predizer_svr(X, y)` que**:\n",
        "   - Treina um modelo de SVR com kernel RBF;\n",
        "   - Retorna uma predição para o próximo valor com base na última janela disponível.\n",
        "\n",
        "4. **Avalie o modelo**:\n",
        "   - Separe os dados em treino e teste (ex: utilize vetores de tamanho 50 do período sugerido para predizer a observação 51);\n",
        "   - Calcule o erro médio absoluto (MAE) da predição nos dados de teste.\n",
        "\n",
        "---\n",
        "\n"
      ]
    },
    {
      "cell_type": "code",
      "execution_count": null,
      "metadata": {
        "id": "K5kIUO-6LxoH"
      },
      "outputs": [],
      "source": [
        "# Solução:"
      ]
    },
    {
      "cell_type": "markdown",
      "metadata": {
        "id": "FxKSi-z6T9fs"
      },
      "source": [
        "### Exercício 3: Predição do Próximo Valor do Bitcoin com SVR utilizando janelas de BTC e ETH\n",
        "\n",
        "Neste exercício, você deve construir um modelo de regressão baseado em SVM (SVR) para prever o **preço de fechamento do Bitcoin no dia 12 de abril de 2025**, utilizando dados dos 10 dias anteriores do próprio Bitcoin **e** também os 10 dias anteriores do Ethereum.\n",
        "\n",
        "---\n",
        "\n",
        "**Colher de chá**:\n",
        "\n",
        "#### Objetivo:\n",
        "\n",
        "Crie uma função chamada:\n",
        "\n",
        "```python\n",
        "def prever_btc_12abril2025():\n",
        "```\n",
        "\n",
        "Essa função deve:\n",
        "\n",
        "1. Baixar os dados históricos de fechamento diário de **Bitcoin (BTC-USD)** e **Ethereum (ETH-USD)** usando `yfinance`;\n",
        "2. Utilizar os **10 dias anteriores a 12/04/2025** para compor as variáveis preditoras:\n",
        "\n",
        "   * 10 preços do Bitcoin (`BTC_{t-10}` até `BTC_{t-1}`);\n",
        "   * 10 preços do Ethereum (`ETH_{t-10}` até `ETH_{t-1}`);\n",
        "3. Treinar um modelo de **regressão SVM (SVR)** com os dados anteriores (de forma supervisionada);\n",
        "4. Aplicar o modelo para prever o valor do **Bitcoin no dia 12/04/2025**;\n",
        "5. Retornar o valor previsto.\n",
        "\n",
        "---\n",
        "\n",
        "#### Dicas:\n",
        "\n",
        "* Utilize a biblioteca `yfinance` para obter os dados:\n",
        "\n",
        "  ```python\n",
        "  import yfinance as yf\n",
        "  btc = yf.download(\"BTC-USD\", start=\"2021-01-01\")\n",
        "  eth = yf.download(\"ETH-USD\", start=\"2021-01-01\")\n",
        "  ```\n",
        "\n",
        "---\n",
        "\n",
        "\n",
        "\n"
      ]
    },
    {
      "cell_type": "code",
      "execution_count": null,
      "metadata": {
        "id": "P3FgtpKuV6Nv"
      },
      "outputs": [],
      "source": [
        "# Solução:"
      ]
    },
    {
      "cell_type": "markdown",
      "metadata": {
        "id": "78hGsE51WCA9"
      },
      "source": [
        "### Exercício 4: Predição de $k$ Próximos Valores do Bitcoin com SVR utilizando janelas de BTC e ETH\n",
        "\n",
        "Neste exercício, você deve construir um modelo de regressão baseado em SVM (SVR) para prever o **preço de fechamento do Bitcoin em $k$ dias a partir de um dia específico**, utilizando dados dos 10 dias anteriores do próprio Bitcoin **e** também os 10 dias anteriores do Ethereum.\n"
      ]
    },
    {
      "cell_type": "code",
      "execution_count": null,
      "metadata": {
        "id": "nD6_7y3jWXKK"
      },
      "outputs": [],
      "source": [
        "# Solução:"
      ]
    },
    {
      "cell_type": "markdown",
      "metadata": {
        "id": "9TaNyah9O3vd"
      },
      "source": [
        "### Exercício 5: Classificação Multiclasse com SVM\n",
        "\n",
        "Nos exercícios anteriores, trabalhamos com **classificadores binários** (duas classes apenas) utilizando Máquinas de Vetores de Suporte (SVM).\n",
        "\n",
        "Agora, seu desafio é **generalizar essa abordagem para problemas com múltiplas classes**.\n",
        "\n",
        "#### Objetivo:\n",
        "\n",
        "Implemente uma função chamada `treinar_svm_multiclasse(X, y, C=1.0)` que:\n",
        "\n",
        "- Treina um modelo SVM **multiclasse** a partir de um conjunto de dados com `k > 2` classes;\n",
        "- Utiliza apenas um classificador binário como base (ex: como nos exercícios anteriores);\n",
        "- Retorna um modelo preditivo capaz de classificar **novas amostras** em uma entre `k` classes.\n",
        "\n",
        "---\n",
        "\n",
        "#### Dicas:\n",
        "\n",
        "- Utilize a estratégia **One-vs-Rest (OvR)**:\n",
        "  - Para cada classe `i`, treine um classificador binário para distinguir “classe `i`” contra “todas as outras”;\n",
        "  - Para prever uma nova amostra, aplique todos os classificadores e escolha aquele com **maior confiança** (ex: valor do hiperplano mais distante de zero).\n",
        "\n",
        "---\n",
        "\n",
        "#### Exemplo de uso esperado:\n",
        "\n",
        "```python\n",
        "modelo = treinar_svm_multiclasse(X_train, y_train)\n",
        "y_pred = modelo(X_test)  # Retorna um vetor com rótulos de múltiplas classes\n"
      ]
    },
    {
      "cell_type": "code",
      "execution_count": null,
      "metadata": {
        "id": "DKBqGcJ3O29m"
      },
      "outputs": [],
      "source": []
    },
    {
      "cell_type": "markdown",
      "metadata": {
        "id": "e0Ia2_KB7c9d"
      },
      "source": [
        "### Exercício 6: Tipo de floresta com SVM\n",
        "\n",
        "Repita o exercício 1 com o arquivo `covtype.csv` da base CoverType  (disponível em: https://www.kaggle.com/datasets/uciml/forest-cover-type-dataset/data?select=covtype.csv)."
      ]
    },
    {
      "cell_type": "code",
      "execution_count": null,
      "metadata": {
        "id": "cYh_OZYl8BA4"
      },
      "outputs": [],
      "source": []
    }
  ],
  "metadata": {
    "colab": {
      "provenance": []
    },
    "kernelspec": {
      "display_name": "svm",
      "language": "python",
      "name": "python3"
    },
    "language_info": {
      "name": "python",
      "version": "3.12.9"
    }
  },
  "nbformat": 4,
  "nbformat_minor": 0
}