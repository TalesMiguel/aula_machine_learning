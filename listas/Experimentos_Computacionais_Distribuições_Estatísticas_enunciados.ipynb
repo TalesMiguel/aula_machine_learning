{
 "cells": [
  {
   "cell_type": "markdown",
   "metadata": {
    "id": "oGYLnvfavWGz"
   },
   "source": [
    "# Aprendizado de Máquina e Reconhecimento de Padrões\n",
    "\n",
    "Teoria de Probabilidades e Distribuições Estatísticas\n",
    "\n",
    "Experimentos Computacionais - `Python`\n",
    "\n",
    "Material produzido por Prof. Dr. Rodrigo Colnago Contreras\n",
    "\n",
    "Unifesp"
   ]
  },
  {
   "cell_type": "markdown",
   "metadata": {
    "id": "sUtKZhmPwMlb"
   },
   "source": [
    "# Imports"
   ]
  },
  {
   "cell_type": "code",
   "metadata": {
    "id": "aPkQLExnrhgV",
    "ExecuteTime": {
     "end_time": "2025-04-09T16:45:45.462087Z",
     "start_time": "2025-04-09T16:45:45.457180Z"
    }
   },
   "source": [
    "# Importação de pacotes e submódulos\n",
    "import numpy as np\n",
    "from scipy.stats import randint, bernoulli, binom, poisson, uniform, norm, chi2\n",
    "import random"
   ],
   "outputs": [],
   "execution_count": 2
  },
  {
   "cell_type": "markdown",
   "metadata": {
    "id": "7-qgILlIwO0D"
   },
   "source": [
    "# Práticas Resolvidas"
   ]
  },
  {
   "cell_type": "markdown",
   "metadata": {
    "id": "9YFGBZWwwnSq"
   },
   "source": [
    "**Prática 1**: Seja a variável aleatória $X$ com distribuição abaixo:\n",
    "\n",
    "$$P(X=0) = 0.2,\\quad P(X=1) = 0.2, \\quad P(X = 2) = 0.6.$$\n",
    "\n",
    "(a) Calcule $E(X)$ e $V(X)$.\n",
    "\n",
    "\n",
    "\n",
    "(b) Uma possível representação para $X$ é a listagem $[0,0,1,1,2,2,2,2,2,2]$. Utilizando a função `choice` do pacote `random`, que escolhe aleatoriamente um elemento de um conjunto dado, crie uma lista com `n` observações de $X$ e calcule a média e a variância dessa lista utilizando, respectivamente, as funções `mean` e `std**2` do pacote `numpy` (`np`). Obs.: Considere para `n` os valores $10$, $100$ e $10000$. O que observamos com essa configuração?\n",
    "\n",
    "\n"
   ]
  },
  {
   "cell_type": "markdown",
   "metadata": {
    "id": "DJxTWNc40lGH"
   },
   "source": [
    "**Prática 2**: Em uma urna, há 8 bolas amarelas e 4 verdes. Retiram-se 5 bolas *com reposição*. Utilizando o submódulo `binom`, função `pmf`, do `scipy.stats`, calcule a probabilidade de que:\n",
    "\n",
    " (a) Saiam duas bolas amarelas."
   ]
  },
  {
   "cell_type": "markdown",
   "metadata": {
    "id": "JESSHG221p5y"
   },
   "source": [
    "(b) Saiam, pelo menos, $3$ verdes."
   ]
  },
  {
   "cell_type": "markdown",
   "metadata": {
    "id": "6WGA_hcd5JHW"
   },
   "source": [
    "**Prática 3**: Em uma central telefônica, chegam $5$ chamadas por minuto. Utilizando o submódulo `poisson`, função `pmf`, do `scipy.stats`, calcule a probabilidade de que:\n",
    "\n",
    "(a) Em um minuto não ocorra nenhuma chamada."
   ]
  },
  {
   "cell_type": "markdown",
   "metadata": {
    "id": "2QadXIq5548t"
   },
   "source": [
    "(b) Em dois minutos ocorram duas chamadas."
   ]
  },
  {
   "cell_type": "markdown",
   "metadata": {
    "id": "ugTr8Nvi810w"
   },
   "source": [
    "**Prática 4**: O peso médio de $500$ estudantes do sexo masculino de uma determinada universidade é $75.5$ Kg e o desvio padrão é $7.5$ Kg. Admitindo que os pesos são normalmente distribuídos, determine a percentagem de estudantes que pesam:\n",
    "\n",
    "(a) entre $60$ e $77.5$ Kg.\n",
    "\n",
    "**Dica:** Utilize a função `cdf` do submódulo `scipy.stats.norm` para calcular as probabilidades."
   ]
  },
  {
   "cell_type": "markdown",
   "metadata": {
    "id": "w_or2PvP-Kt4"
   },
   "source": [
    "(b) mais do que $92.5$ Kg."
   ]
  },
  {
   "cell_type": "markdown",
   "metadata": {
    "id": "pG8iK19yAP33"
   },
   "source": [
    "**Prática 5**: Sabe-se que o peso de um grupo de leitões de mesma idade alimentados com determinada ração segue uma distribuição $\\chi^2$ com $50$ graus de liberdade. Utilizando a `cdf` do submódulo `scipy.stats.chi2`, calcule:\n",
    "\n",
    "(a) A probabilidade de um leitão desse grupo pesar menos de $30$kg."
   ]
  },
  {
   "cell_type": "markdown",
   "metadata": {
    "id": "o4m4PKN8BFC7"
   },
   "source": [
    "(b) A probabilidade de um leitão desse grupo pesar mais de $50$kg."
   ]
  },
  {
   "cell_type": "markdown",
   "metadata": {
    "id": "XVvv9kCTDNcU"
   },
   "source": [
    "# Práticas Propostas"
   ]
  },
  {
   "cell_type": "markdown",
   "metadata": {
    "id": "_sF7zQCVDSd2"
   },
   "source": [
    "**Prática 6**: Calcule a esperança, a variância e o desvio padrão da VAC $X$ que é definida pela seguinte FDP:\n",
    "\n",
    "$$f(x) = \\left\\{\\begin{matrix}\\frac{1}{b-a}, b\\leq x\\leq a,\\\\ 0, \\text{caso contrário}. \\end{matrix}\\right.$$\n",
    "\n",
    "Além disso, comprove que $f \\geq 0$ e $\\int_{-\\infty}^{+\\infty} f(x) \\text{d}x = 1$.\n",
    "\n",
    "\n",
    "**Obs**.: $X$ é conhecida como VAC com **distribuição uniforme**."
   ]
  },
  {
   "cell_type": "code",
   "execution_count": null,
   "metadata": {
    "id": "-7QrMgiXDPEI"
   },
   "outputs": [],
   "source": []
  },
  {
   "cell_type": "markdown",
   "metadata": {
    "id": "n5Na1uWwD1VJ"
   },
   "source": [
    "**Prática 7**: Uma máquina de bebidas está regulada de modo a servir uma média de $150$ml por copo. Se a quantidade servida por copo seguir uma distribuição normal com desvio padrão de $20$ml, determine a percentagem de copos que conterão mais de $175$ml de bebida."
   ]
  },
  {
   "cell_type": "code",
   "execution_count": null,
   "metadata": {
    "id": "55XgsG-MD9hI"
   },
   "outputs": [],
   "source": []
  },
  {
   "cell_type": "markdown",
   "metadata": {
    "id": "eGEnjf7BD-Mv"
   },
   "source": [
    "**Prática 8**: Sabe-se, de dados anteriores, que o período, em meses, entre as reclamações de clientes sobre certo produto tem distribuição $\\chi^2$ com $4$ graus de liberdade. Foram realizadas mudanças que envolveram um aumento nas condições de controle de qualidade. Depois dessas mudanças, a primeira reclamação de cliente ocorreu depois de $20$ meses. O aumento no controle de qualidade parece ter surtido efeito?"
   ]
  },
  {
   "cell_type": "code",
   "execution_count": null,
   "metadata": {
    "id": "hOVyqEfiEZuk"
   },
   "outputs": [],
   "source": []
  },
  {
   "cell_type": "markdown",
   "metadata": {
    "id": "Z9SIbt40EunV"
   },
   "source": [
    "**Prática 9**: Gafanhotos distribuem-se aleatoriamente em um vasto campo, de acordo com uma distribuição de Poisson, com parâmetro $\\lambda = 2$ por jarda quadrada. Qual é o tamanho do raio $R$ de uma região amostral circular para que a probabilidade de se encontrar pelo menos um gafanhoto na região seja de $0.99$?"
   ]
  },
  {
   "cell_type": "code",
   "execution_count": null,
   "metadata": {
    "id": "66FH4-ZgE7RH"
   },
   "outputs": [],
   "source": []
  },
  {
   "cell_type": "markdown",
   "metadata": {
    "id": "cE0RX1pxFWxx"
   },
   "source": [
    "**Prática 10**: Certo teste de presença de uma certa doença tem probabilidade $0.20$ de fornecer um resultado positivo falso (indicando que o indivíduo tem a doença quando não for o caso) e probabilidade $0.10$ de fornecer um resultado negativo falso. Suponha que $10$ indivíduos sejam testados, cinco dos quais têm a doença e cinco não. Seja $X$ o número de resultados positivos.\n",
    "\n",
    "(a) $X$ tem distribuição binomial? Explique seu raciocínio.\n",
    "\n",
    "(b) Qual é a probabilidade de exatamente três dos $10$ resultados serem positivos?"
   ]
  },
  {
   "cell_type": "code",
   "execution_count": null,
   "metadata": {
    "id": "wYvhxY9UFphF"
   },
   "outputs": [],
   "source": []
  }
 ],
 "metadata": {
  "colab": {
   "provenance": []
  },
  "kernelspec": {
   "display_name": "Python 3 (ipykernel)",
   "language": "python",
   "name": "python3"
  },
  "language_info": {
   "codemirror_mode": {
    "name": "ipython",
    "version": 3
   },
   "file_extension": ".py",
   "mimetype": "text/x-python",
   "name": "python",
   "nbconvert_exporter": "python",
   "pygments_lexer": "ipython3",
   "version": "3.11.4"
  }
 },
 "nbformat": 4,
 "nbformat_minor": 0
}
